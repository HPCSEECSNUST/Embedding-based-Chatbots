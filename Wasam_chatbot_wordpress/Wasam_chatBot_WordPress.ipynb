{
 "cells": [
  {
   "cell_type": "code",
   "execution_count": 10,
   "metadata": {},
   "outputs": [],
   "source": [
    "import requests\n",
    "import os"
   ]
  },
  {
   "cell_type": "code",
   "execution_count": 11,
   "metadata": {},
   "outputs": [],
   "source": [
    "def upload_pdf(pdf_path, api_key):\n",
    "    files = [\n",
    "        ('file', ('file', open(pdf_path, 'rb'), 'application/octet-stream'))\n",
    "    ]\n",
    "    headers = {\n",
    "        'x-api-key': api_key\n",
    "    }\n",
    "    response = requests.post('https://api.chatpdf.com/v1/sources/add-file', headers=headers, files=files)\n",
    "\n",
    "    if response.status_code == 200:\n",
    "        return response.json()['sourceId']\n",
    "    else:\n",
    "        raise Exception(f\"Failed to upload PDF: {response.status_code} - {response.text}\")\n",
    "\n",
    "\n",
    "\n"
   ]
  },
  {
   "cell_type": "code",
   "execution_count": 12,
   "metadata": {},
   "outputs": [],
   "source": [
    "def read_sources_from_file(file_path):\n",
    "    with open(file_path, 'r') as file:\n",
    "        return [line.strip() for line in file.readlines()]"
   ]
  },
  {
   "cell_type": "code",
   "execution_count": 13,
   "metadata": {},
   "outputs": [],
   "source": [
    "def write_sources_to_file(source_ids, file_path):\n",
    "    with open(file_path, 'w') as file:\n",
    "        for source_id in source_ids:\n",
    "            file.write(f\"{source_id}\\n\")"
   ]
  },
  {
   "cell_type": "code",
   "execution_count": 15,
   "metadata": {},
   "outputs": [],
   "source": [
    "def query_pdf(source_id, query, api_key):\n",
    "    headers = {\n",
    "        'x-api-key': api_key,\n",
    "        'Content-Type': 'application/json'\n",
    "    }\n",
    "    payload = {\n",
    "        'sourceId': source_id,\n",
    "        'messages': [\n",
    "        {\n",
    "            'role': \"user\",\n",
    "            'content': query,\n",
    "        }\n",
    "    ]\n",
    "    }\n",
    "    response = requests.post('https://api.chatpdf.com/v1/chats/message', headers=headers, json=payload)\n",
    "\n",
    "    if response.status_code == 200:\n",
    "        return response.json()['content']\n",
    "    else:\n",
    "        raise Exception(f\"Failed to query PDF: {response.status_code} - {response.text}\")\n"
   ]
  },
  {
   "cell_type": "code",
   "execution_count": 16,
   "metadata": {},
   "outputs": [
    {
     "name": "stdout",
     "output_type": "stream",
     "text": [
      "Source IDs read from file:\n",
      "Source ID: src_XIVwUryBcHmW3KwcYLJnd\n",
      "Source ID: src_w55IwocDiuntzkvrVBqax\n",
      "Source ID: src_Wrq8DJOOKtm9jBZNvMrgH\n",
      "You:  how to intsall word press. give me step by step instuctions\n",
      "\n",
      "Bot: To install WordPress, follow these step-by-step instructions:\n",
      "\n",
      "1. Go to your WordPress Dashboard area and click on Plugins » Add New.\n",
      "2. Find the plugin by typing the plugin name or the functionality you are looking for.\n",
      "3. Click the Install Now button to install it for your site.\n",
      "4. WordPress will download and install the plugin for you. After this, you will see a success message with a link to Activate the plugin or Return to the plugin installer.\n",
      "\n",
      "If you need further assistance or have any questions, feel free to ask!\n",
      "You:  bye\n",
      "Exited\n"
     ]
    }
   ],
   "source": [
    "if __name__ == \"__main__\":\n",
    "    \n",
    "    api_key = 'sec_xJ86UNfF83CywriPTtJjWh9X6zF9YKKc'\n",
    "\n",
    "    pdf_paths = [\n",
    "        r'C:\\Users\\wasam\\OneDrive\\Desktop\\Summer\\PDFs\\WordPressManual.pdf',\n",
    "        r'C:\\Users\\wasam\\OneDrive\\Desktop\\Summer\\PDFs\\wordpress_tutorial.pdf',\n",
    "        r'C:\\Users\\wasam\\OneDrive\\Desktop\\Summer\\PDFs\\WordPress-User-Guide-Administrators.pdf'\n",
    "    ]\n",
    "\n",
    "    file_path = 'uploaded_pdf.txt'\n",
    "    \n",
    "    try:\n",
    "        if os.path.exists(file_path):\n",
    "            # Read source IDs from the file\n",
    "            source_ids = read_sources_from_file(file_path)\n",
    "            print(\"Source IDs read from file:\")\n",
    "            for source_id in source_ids:\n",
    "                print(f\"Source ID: {source_id}\")\n",
    "        \n",
    "        else:\n",
    "            # Upload PDFs and get source IDs\n",
    "            source_ids = []\n",
    "            for pdf_path in pdf_paths:\n",
    "                source_id = upload_pdf(pdf_path, api_key)\n",
    "                source_ids.append(source_id)\n",
    "                print(f'Uploaded {pdf_path}, Source ID: {source_id}')\n",
    "\n",
    "            # Write source IDs to the file\n",
    "            write_sources_to_file(source_ids, file_path)\n",
    "            print(f\"Source IDs written to {file_path}\")\n",
    "\n",
    "        while True:\n",
    "            user_input = input(\"You: \")\n",
    "            print(\"You: \",user_input)\n",
    "            if user_input.lower() in [\"exit\", \"quit\",\"bye\"]:\n",
    "                print(\"Exited\")\n",
    "                break\n",
    "\n",
    "            answer_found = False\n",
    "\n",
    "            for source_id in source_ids:\n",
    "                try:\n",
    "                    \n",
    "                    # Query the PDF using the source ID\n",
    "                    response = query_pdf(source_id, user_input, api_key)\n",
    "                    if response:  # Assuming a non-empty response means an answer was found\n",
    "                        print()\n",
    "                        print(f\"Bot: {response}\")\n",
    "                        answer_found = True\n",
    "                        break\n",
    "                except Exception as query_exception:\n",
    "                    print(f\"Error querying PDF (Source ID: {source_id}): {query_exception}\")\n",
    "\n",
    "            if not answer_found:\n",
    "                print(\"No relevant information found in any of the PDFs.\")\n",
    "\n",
    "    except Exception as e:\n",
    "        print(f\"Error uploading PDF: {e}\")\n"
   ]
  }
 ],
 "metadata": {
  "kernelspec": {
   "display_name": "Python 3",
   "language": "python",
   "name": "python3"
  },
  "language_info": {
   "codemirror_mode": {
    "name": "ipython",
    "version": 3
   },
   "file_extension": ".py",
   "mimetype": "text/x-python",
   "name": "python",
   "nbconvert_exporter": "python",
   "pygments_lexer": "ipython3",
   "version": "3.11.5"
  }
 },
 "nbformat": 4,
 "nbformat_minor": 2
}
