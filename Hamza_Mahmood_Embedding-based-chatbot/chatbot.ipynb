{
 "cells": [
  {
   "cell_type": "code",
   "execution_count": 1,
   "id": "0b3816b4-816a-43d3-8fa7-55777820c6b9",
   "metadata": {},
   "outputs": [
    {
     "name": "stdout",
     "output_type": "stream",
     "text": [
      "Source ID: src_6Z8W24QrOsFSZtU7R7DEi\n",
      "<class 'str'>\n"
     ]
    }
   ],
   "source": [
    "import requests\n",
    "\n",
    "files = [\n",
    "    ('file', ('file', open('./The_Universe.pdf', 'rb'), 'application/octet-stream'))\n",
    "]\n",
    "headers = {\n",
    "    'x-api-key': 'sec_3EGrwL3nar83c47RXpbef8e3Z51Axmxf'\n",
    "}\n",
    "\n",
    "response = requests.post(\n",
    "    'https://api.chatpdf.com/v1/sources/add-file', headers=headers, files=files)\n",
    "\n",
    "if response.status_code == 200:\n",
    "    print('Source ID:', response.json()['sourceId'])\n",
    "    print(type(response.json()['sourceId']))\n",
    "else:\n",
    "    print('Status:', response.status_code)\n",
    "    print('Error:', response.text)"
   ]
  },
  {
   "cell_type": "code",
   "execution_count": null,
   "id": "51a12dd3-e02c-4b01-a14e-9a4e2d7f0fb1",
   "metadata": {},
   "outputs": [
    {
     "name": "stdin",
     "output_type": "stream",
     "text": [
      "Enter your query about the Universe here: What is this book about?\n"
     ]
    },
    {
     "name": "stdout",
     "output_type": "stream",
     "text": [
      "Result: This book provides a basic understanding of astronomy as a science, exploring the Universe from Earth to stars, planets, and galaxies. It covers various perspectives, such as scientific, historical, and spatial, to help readers develop a meaningful understanding of astronomy.\n"
     ]
    },
    {
     "name": "stdin",
     "output_type": "stream",
     "text": [
      "Enter your query about the Universe here: How many planets are there in our Universe?\n"
     ]
    },
    {
     "name": "stdout",
     "output_type": "stream",
     "text": [
      "Result: In our Solar System, there are eight planets: Mercury, Venus, Earth, Mars, Jupiter, Saturn, Uranus, and Neptune. Beyond our Solar System, there are countless planets orbiting other stars, but the exact number is still being discovered and studied.\n"
     ]
    }
   ],
   "source": [
    "pdf_source_id = response.json()['sourceId']\n",
    "while True:\n",
    "    question = input(\"Enter your query about the Universe here:\")\n",
    "    headers = {\n",
    "        'x-api-key': 'sec_3EGrwL3nar83c47RXpbef8e3Z51Axmxf',\n",
    "        \"Content-Type\": \"application/json\",\n",
    "    }\n",
    "    \n",
    "    data = {\n",
    "        'sourceId': pdf_source_id,\n",
    "        'messages': [\n",
    "            {\n",
    "                'role': \"user\",\n",
    "                'content': question,\n",
    "            }\n",
    "        ]\n",
    "    }\n",
    "    \n",
    "    response = requests.post(\n",
    "        'https://api.chatpdf.com/v1/chats/message', headers=headers, json=data)\n",
    "    \n",
    "    if response.status_code == 200:\n",
    "        print('Result:', response.json()['content'])\n",
    "    else:\n",
    "        print('Status:', response.status_code)\n",
    "        print('Error:', response.text)"
   ]
  }
 ],
 "metadata": {
  "kernelspec": {
   "display_name": "Python 3 (ipykernel)",
   "language": "python",
   "name": "python3"
  },
  "language_info": {
   "codemirror_mode": {
    "name": "ipython",
    "version": 3
   },
   "file_extension": ".py",
   "mimetype": "text/x-python",
   "name": "python",
   "nbconvert_exporter": "python",
   "pygments_lexer": "ipython3",
   "version": "3.10.12"
  }
 },
 "nbformat": 4,
 "nbformat_minor": 5
}
