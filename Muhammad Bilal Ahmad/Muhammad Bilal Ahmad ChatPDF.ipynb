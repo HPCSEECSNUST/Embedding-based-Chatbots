{
 "cells": [
  {
   "cell_type": "code",
   "execution_count": 1,
   "metadata": {},
   "outputs": [
    {
     "name": "stdout",
     "output_type": "stream",
     "text": [
      "Source ID: src_v8Syqn7R5NMi3hFHuvGaz\n"
     ]
    }
   ],
   "source": [
    "#adding pdf via upload\n",
    "#i have used constitution of Pakistan 1973\n",
    "\n",
    "import requests\n",
    "\n",
    "files = [\n",
    "    ('file', ('file', open('Pakistan.pdf', 'rb'), 'application/octet-stream'))\n",
    "]\n",
    "headers = {\n",
    "    'x-api-key': 'sec_ZpOBna93sClBzps4BozHQN56axCGFXVm'\n",
    "}\n",
    "\n",
    "response = requests.post(\n",
    "    'https://api.chatpdf.com/v1/sources/add-file', headers=headers, files=files)\n",
    "\n",
    "if response.status_code == 200:\n",
    "    print('Source ID:', response.json()['sourceId'])\n",
    "else:\n",
    "    print('Status:', response.status_code)\n",
    "    print('Error:', response.text)"
   ]
  },
  {
   "cell_type": "code",
   "execution_count": 2,
   "metadata": {},
   "outputs": [
    {
     "name": "stdout",
     "output_type": "stream",
     "text": [
      "Result: The Constitution of the Islamic Republic of Pakistan establishes Pakistan as a democratic state based on Islamic principles of social justice. It outlines the rights and responsibilities of the government, citizens, and institutions within the country. The Constitution emphasizes democracy, freedom, equality, tolerance, and social justice, as enunciated by Islam. It also guarantees fundamental rights, including equality, social, economic, and political justice, and freedom of thought, expression, belief, faith, worship, and association. The Constitution of Pakistan is a sacred trust, and it aims to safeguard the integrity and sovereignty of the nation while promoting peace, progress, and happiness for humanity.\n"
     ]
    }
   ],
   "source": [
    "import requests\n",
    "\n",
    "headers = {\n",
    "    'x-api-key': 'sec_ZpOBna93sClBzps4BozHQN56axCGFXVm',\n",
    "    \"Content-Type\": \"application/json\",\n",
    "}\n",
    "\n",
    "data = {\n",
    "    'sourceId': \"src_v8Syqn7R5NMi3hFHuvGaz\",\n",
    "    'messages': [\n",
    "        {\n",
    "            'role': \"user\",\n",
    "            'content': \"Tell me about the constutution\",\n",
    "        }\n",
    "    ]\n",
    "}\n",
    "\n",
    "response = requests.post(\n",
    "    'https://api.chatpdf.com/v1/chats/message', headers=headers, json=data)\n",
    "\n",
    "if response.status_code == 200:\n",
    "    print('Result:', response.json()['content'])\n",
    "else:\n",
    "    print('Status:', response.status_code)\n",
    "    print('Error:', response.text)"
   ]
  }
 ],
 "metadata": {
  "kernelspec": {
   "display_name": "Python 3",
   "language": "python",
   "name": "python3"
  },
  "language_info": {
   "codemirror_mode": {
    "name": "ipython",
    "version": 3
   },
   "file_extension": ".py",
   "mimetype": "text/x-python",
   "name": "python",
   "nbconvert_exporter": "python",
   "pygments_lexer": "ipython3",
   "version": "3.10.5"
  }
 },
 "nbformat": 4,
 "nbformat_minor": 2
}
