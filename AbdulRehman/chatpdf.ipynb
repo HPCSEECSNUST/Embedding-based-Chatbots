{
 "cells": [
  {
   "cell_type": "code",
   "execution_count": 6,
   "metadata": {},
   "outputs": [],
   "source": [
    "import requests"
   ]
  },
  {
   "cell_type": "code",
   "execution_count": 7,
   "metadata": {},
   "outputs": [
    {
     "name": "stdout",
     "output_type": "stream",
     "text": [
      "Source ID: src_O2DKDko5e3aPh5kDXUhRQ\n"
     ]
    }
   ],
   "source": [
    "files = [\n",
    "    ('file', ('file', open('Pakistan-Info.pdf', 'rb'), 'application/octet-stream'))\n",
    "]\n",
    "headers = {\n",
    "    'x-api-key': 'sec_XZvK6SEbegstMFhymP97jS69ytgcqLwx'\n",
    "}\n",
    "\n",
    "response = requests.post(\n",
    "    'https://api.chatpdf.com/v1/sources/add-file', headers=headers, files=files)\n",
    "\n",
    "if response.status_code == 200:\n",
    "    print('Source ID:', response.json()['sourceId'])\n",
    "else:\n",
    "    print('Status:', response.status_code)\n",
    "    print('Error:', response.text)"
   ]
  },
  {
   "cell_type": "code",
   "execution_count": 8,
   "metadata": {},
   "outputs": [],
   "source": [
    "def input_query():\n",
    "    query = input(\"Enter the query : \")\n",
    "    return query"
   ]
  },
  {
   "cell_type": "code",
   "execution_count": 12,
   "metadata": {},
   "outputs": [],
   "source": [
    "def result(query):\n",
    "    \n",
    "    headers = {\n",
    "    'x-api-key': 'sec_XZvK6SEbegstMFhymP97jS69ytgcqLwx',\n",
    "    \"Content-Type\": \"application/json\",\n",
    "    }\n",
    "\n",
    "    data = {\n",
    "        'sourceId': \"src_O2DKDko5e3aPh5kDXUhRQ\",\n",
    "        'messages': [\n",
    "            {\n",
    "                'role': \"user\",\n",
    "                'content': query,\n",
    "            }\n",
    "        ]\n",
    "    }\n",
    "\n",
    "    response = requests.post(\n",
    "        'https://api.chatpdf.com/v1/chats/message', headers=headers, json=data)\n",
    "\n",
    "    if response.status_code == 200:\n",
    "        print('Result:', response.json()['content'])\n",
    "        \n",
    "        \n",
    "    else:\n",
    "        print('Status:', response.status_code)\n",
    "        print('Error:', response.text)"
   ]
  },
  {
   "cell_type": "code",
   "execution_count": 18,
   "metadata": {},
   "outputs": [
    {
     "name": "stdout",
     "output_type": "stream",
     "text": [
      "Else\n",
      "Result: In the case of Non-arm's length transactions, the person disposing of the asset shall be treated as having received consideration equal to the fair market value of the asset at the time of disposal. The person acquiring the asset shall be treated as having a cost equal to the fair market value determined at the time of acquisition.\n"
     ]
    }
   ],
   "source": [
    "while True:\n",
    "    query = input_query()\n",
    "    # print(\"Outside loop\")\n",
    "    if query ==( \"exit\" or \"Exit\"):\n",
    "        # print(\"Break\")\n",
    "        break\n",
    "    \n",
    "    else:\n",
    "        print(\"Else\")\n",
    "        result(query)\n",
    " "
   ]
  },
  {
   "cell_type": "code",
   "execution_count": null,
   "metadata": {},
   "outputs": [],
   "source": []
  }
 ],
 "metadata": {
  "kernelspec": {
   "display_name": "Python 3",
   "language": "python",
   "name": "python3"
  },
  "language_info": {
   "codemirror_mode": {
    "name": "ipython",
    "version": 3
   },
   "file_extension": ".py",
   "mimetype": "text/x-python",
   "name": "python",
   "nbconvert_exporter": "python",
   "pygments_lexer": "ipython3",
   "version": "3.12.1"
  }
 },
 "nbformat": 4,
 "nbformat_minor": 2
}
